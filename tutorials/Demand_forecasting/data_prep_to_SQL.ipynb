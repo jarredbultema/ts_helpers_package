{
 "cells": [
  {
   "cell_type": "code",
   "execution_count": 3,
   "metadata": {},
   "outputs": [],
   "source": [
    "import pandas as pd\n",
    "import numpy as np\n",
    "import psycopg2 as pg\n",
    "import matplotlib.pyplot as plt\n",
    "import seaborn as sns\n",
    "from io import StringIO\n",
    "from sqlalchemy import create_engine\n",
    "from sqlalchemy import Table, Column, String, MetaData\n",
    "import os"
   ]
  },
  {
   "cell_type": "code",
   "execution_count": 7,
   "metadata": {},
   "outputs": [],
   "source": [
    "os.chdir('data')"
   ]
  },
  {
   "cell_type": "code",
   "execution_count": 8,
   "metadata": {},
   "outputs": [],
   "source": [
    "# load local files\n",
    "df1 = pd.read_csv(\"clean_sales_1.csv\", index_col=0)\n",
    "df2 = pd.read_csv(\"clean_sales_2.csv\", index_col=0)\n",
    "df_markets = pd.read_csv(\"aggregate_market_total_sales.csv\", index_col=0)"
   ]
  },
  {
   "cell_type": "code",
   "execution_count": 3,
   "metadata": {},
   "outputs": [],
   "source": [
    "# connect to PostgreSQL database on azure\n",
    "# connection string information\n",
    "host = \"tutorial-db.postgres.database.azure.com\"\n",
    "dbname = \"postgres\"\n",
    "user = \"GTM_admin@tutorial-db\"\n",
    "password = \"Enablement1\"\n",
    "sslmode = \"require\"\n",
    "port = \"5432\""
   ]
  },
  {
   "cell_type": "code",
   "execution_count": 20,
   "metadata": {},
   "outputs": [
    {
     "name": "stdout",
     "output_type": "stream",
     "text": [
      "Connection established\n"
     ]
    }
   ],
   "source": [
    "# Construct connection string\n",
    "conn_string = (\n",
    "    f\"host={host} user={user} dbname={dbname} password={password} sslmode={sslmode}\"\n",
    ")\n",
    "conn = pg.connect(conn_string)\n",
    "print(\"Connection established\")\n",
    "\n",
    "cursor = conn.cursor()"
   ]
  },
  {
   "cell_type": "code",
   "execution_count": 5,
   "metadata": {},
   "outputs": [],
   "source": [
    "# postgres+psycop2://myuser:[email protected]ample.com:5432/mydatabase"
   ]
  },
  {
   "cell_type": "markdown",
   "metadata": {},
   "source": [
    "## check for duplicate invoice numbers across the data sets"
   ]
  },
  {
   "cell_type": "code",
   "execution_count": 6,
   "metadata": {},
   "outputs": [
    {
     "name": "stdout",
     "output_type": "stream",
     "text": [
      "min:  1005\n",
      "max:  23137\n"
     ]
    }
   ],
   "source": [
    "print(\"min: \", df1[\"invoice\"].min())\n",
    "print(\"max: \", df1[\"invoice\"].max())"
   ]
  },
  {
   "cell_type": "code",
   "execution_count": 7,
   "metadata": {},
   "outputs": [
    {
     "name": "stdout",
     "output_type": "stream",
     "text": [
      "min:  2\n",
      "min:  47519\n"
     ]
    }
   ],
   "source": [
    "print(\"min: \", df2[\"invoice\"].min())\n",
    "print(\"min: \", df2[\"invoice\"].max())"
   ]
  },
  {
   "cell_type": "code",
   "execution_count": 8,
   "metadata": {},
   "outputs": [
    {
     "data": {
      "text/plain": [
       "11715"
      ]
     },
     "execution_count": 8,
     "metadata": {},
     "output_type": "execute_result"
    }
   ],
   "source": [
    "i1 = set(df1[\"invoice\"].unique().tolist())\n",
    "i2 = set(df2[\"invoice\"].unique().tolist())\n",
    "same_invoice = i1.intersection(i2)\n",
    "len(same_invoice)"
   ]
  },
  {
   "cell_type": "markdown",
   "metadata": {},
   "source": [
    "### There are a large number of duplicates. These will need to be changed as this will be used as a key to join in other data once the data is split into separate tables"
   ]
  },
  {
   "cell_type": "code",
   "execution_count": 9,
   "metadata": {},
   "outputs": [],
   "source": [
    "# offset the second data set information\n",
    "df2[\"invoice\"] = df2[\"invoice\"] + 31343"
   ]
  },
  {
   "cell_type": "code",
   "execution_count": 10,
   "metadata": {},
   "outputs": [
    {
     "data": {
      "text/plain": [
       "0"
      ]
     },
     "execution_count": 10,
     "metadata": {},
     "output_type": "execute_result"
    }
   ],
   "source": [
    "i1 = set(df1[\"invoice\"].unique().tolist())\n",
    "i2 = set(df2[\"invoice\"].unique().tolist())\n",
    "same_invoice = i1.intersection(i2)\n",
    "len(same_invoice)"
   ]
  },
  {
   "cell_type": "code",
   "execution_count": 11,
   "metadata": {},
   "outputs": [
    {
     "data": {
      "text/plain": [
       "0"
      ]
     },
     "execution_count": 11,
     "metadata": {},
     "output_type": "execute_result"
    }
   ],
   "source": [
    "# check the package_id for redundancies between stores\n",
    "# this would be fine if I had used identical mapping to change the original item names for both stores, but I didn't\n",
    "df2[\"package_id\"] = df2[\"package_id\"].map(lambda x: \"{:.0f}\".format(x))\n",
    "p1 = set(df1[\"package_id\"].unique().tolist())\n",
    "p2 = set(df2[\"package_id\"].unique().tolist())\n",
    "same_package = p1.intersection(p2)\n",
    "len(same_package)"
   ]
  },
  {
   "cell_type": "markdown",
   "metadata": {},
   "source": [
    "## Join the sales transactions data sets"
   ]
  },
  {
   "cell_type": "code",
   "execution_count": 12,
   "metadata": {},
   "outputs": [],
   "source": [
    "df = pd.concat((df1, df2), axis=0)"
   ]
  },
  {
   "cell_type": "markdown",
   "metadata": {},
   "source": [
    "## Separate the transaction basket and item information. Package ID can be a key to join it back"
   ]
  },
  {
   "cell_type": "code",
   "execution_count": 13,
   "metadata": {},
   "outputs": [],
   "source": [
    "transaction_contents = [\"invoice\", \"package_id\", \"qty\", \"unit_price\", \"sale_amount\"]\n",
    "transaction_status = [\n",
    "    \"invoice\",\n",
    "    \"date\",\n",
    "    \"day\",\n",
    "    \"time\",\n",
    "    \"transaction\",\n",
    "    \"category\",\n",
    "    \"store_category\",\n",
    "    \"campaign\",\n",
    "]\n",
    "item_columns = [\"package_id\", \"item_name\"]\n",
    "\n",
    "df_contents = df[transaction_contents].copy().reset_index(drop=True)\n",
    "df_status = df[transaction_status].copy().reset_index(drop=True)\n",
    "df_items = pd.DataFrame(df.groupby(\"package_id\")[item_columns].max()).reset_index(\n",
    "    drop=True\n",
    ")  # in case there are some non-unique package_id / item_name pairs, take the most common one"
   ]
  },
  {
   "cell_type": "code",
   "execution_count": 14,
   "metadata": {},
   "outputs": [
    {
     "data": {
      "text/html": [
       "<div>\n",
       "<style scoped>\n",
       "    .dataframe tbody tr th:only-of-type {\n",
       "        vertical-align: middle;\n",
       "    }\n",
       "\n",
       "    .dataframe tbody tr th {\n",
       "        vertical-align: top;\n",
       "    }\n",
       "\n",
       "    .dataframe thead th {\n",
       "        text-align: right;\n",
       "    }\n",
       "</style>\n",
       "<table border=\"1\" class=\"dataframe\">\n",
       "  <thead>\n",
       "    <tr style=\"text-align: right;\">\n",
       "      <th></th>\n",
       "      <th>invoice</th>\n",
       "      <th>package_id</th>\n",
       "      <th>qty</th>\n",
       "      <th>unit_price</th>\n",
       "      <th>sale_amount</th>\n",
       "    </tr>\n",
       "  </thead>\n",
       "  <tbody>\n",
       "    <tr>\n",
       "      <td>0</td>\n",
       "      <td>23137</td>\n",
       "      <td>A000006690</td>\n",
       "      <td>0.28</td>\n",
       "      <td>3.70</td>\n",
       "      <td>1.04</td>\n",
       "    </tr>\n",
       "    <tr>\n",
       "      <td>1</td>\n",
       "      <td>23136</td>\n",
       "      <td>A000006815</td>\n",
       "      <td>0.47</td>\n",
       "      <td>2.33</td>\n",
       "      <td>1.10</td>\n",
       "    </tr>\n",
       "    <tr>\n",
       "      <td>2</td>\n",
       "      <td>23135</td>\n",
       "      <td>A000006608</td>\n",
       "      <td>1.66</td>\n",
       "      <td>2.07</td>\n",
       "      <td>3.44</td>\n",
       "    </tr>\n",
       "    <tr>\n",
       "      <td>3</td>\n",
       "      <td>23134</td>\n",
       "      <td>A000006877</td>\n",
       "      <td>1.66</td>\n",
       "      <td>1.29</td>\n",
       "      <td>2.14</td>\n",
       "    </tr>\n",
       "    <tr>\n",
       "      <td>4</td>\n",
       "      <td>23134</td>\n",
       "      <td>A000006799</td>\n",
       "      <td>1.66</td>\n",
       "      <td>1.29</td>\n",
       "      <td>2.14</td>\n",
       "    </tr>\n",
       "  </tbody>\n",
       "</table>\n",
       "</div>"
      ],
      "text/plain": [
       "   invoice  package_id   qty  unit_price  sale_amount\n",
       "0    23137  A000006690  0.28        3.70         1.04\n",
       "1    23136  A000006815  0.47        2.33         1.10\n",
       "2    23135  A000006608  1.66        2.07         3.44\n",
       "3    23134  A000006877  1.66        1.29         2.14\n",
       "4    23134  A000006799  1.66        1.29         2.14"
      ]
     },
     "execution_count": 14,
     "metadata": {},
     "output_type": "execute_result"
    }
   ],
   "source": [
    "df_contents.head()"
   ]
  },
  {
   "cell_type": "code",
   "execution_count": 15,
   "metadata": {},
   "outputs": [
    {
     "data": {
      "text/html": [
       "<div>\n",
       "<style scoped>\n",
       "    .dataframe tbody tr th:only-of-type {\n",
       "        vertical-align: middle;\n",
       "    }\n",
       "\n",
       "    .dataframe tbody tr th {\n",
       "        vertical-align: top;\n",
       "    }\n",
       "\n",
       "    .dataframe thead th {\n",
       "        text-align: right;\n",
       "    }\n",
       "</style>\n",
       "<table border=\"1\" class=\"dataframe\">\n",
       "  <thead>\n",
       "    <tr style=\"text-align: right;\">\n",
       "      <th></th>\n",
       "      <th>invoice</th>\n",
       "      <th>date</th>\n",
       "      <th>day</th>\n",
       "      <th>time</th>\n",
       "      <th>transaction</th>\n",
       "      <th>category</th>\n",
       "      <th>store_category</th>\n",
       "      <th>campaign</th>\n",
       "    </tr>\n",
       "  </thead>\n",
       "  <tbody>\n",
       "    <tr>\n",
       "      <td>0</td>\n",
       "      <td>23137</td>\n",
       "      <td>2019-05-21</td>\n",
       "      <td>Tue</td>\n",
       "      <td>14:35:00</td>\n",
       "      <td>Good</td>\n",
       "      <td>Retail</td>\n",
       "      <td>Type_A</td>\n",
       "      <td>discount_type_1</td>\n",
       "    </tr>\n",
       "    <tr>\n",
       "      <td>1</td>\n",
       "      <td>23136</td>\n",
       "      <td>2019-05-21</td>\n",
       "      <td>Tue</td>\n",
       "      <td>14:28:00</td>\n",
       "      <td>Good</td>\n",
       "      <td>Retail</td>\n",
       "      <td>Type_A</td>\n",
       "      <td>discount_type_2</td>\n",
       "    </tr>\n",
       "    <tr>\n",
       "      <td>2</td>\n",
       "      <td>23135</td>\n",
       "      <td>2019-05-21</td>\n",
       "      <td>Tue</td>\n",
       "      <td>14:24:00</td>\n",
       "      <td>Good</td>\n",
       "      <td>Retail</td>\n",
       "      <td>Type_A</td>\n",
       "      <td>discount_type_1</td>\n",
       "    </tr>\n",
       "    <tr>\n",
       "      <td>3</td>\n",
       "      <td>23134</td>\n",
       "      <td>2019-05-21</td>\n",
       "      <td>Tue</td>\n",
       "      <td>14:21:00</td>\n",
       "      <td>Good</td>\n",
       "      <td>Retail</td>\n",
       "      <td>Type_A</td>\n",
       "      <td>discount_type_3</td>\n",
       "    </tr>\n",
       "    <tr>\n",
       "      <td>4</td>\n",
       "      <td>23134</td>\n",
       "      <td>2019-05-21</td>\n",
       "      <td>Tue</td>\n",
       "      <td>14:21:00</td>\n",
       "      <td>Good</td>\n",
       "      <td>Retail</td>\n",
       "      <td>Type_A</td>\n",
       "      <td>discount_type_3</td>\n",
       "    </tr>\n",
       "  </tbody>\n",
       "</table>\n",
       "</div>"
      ],
      "text/plain": [
       "   invoice        date  day      time transaction category store_category  \\\n",
       "0    23137  2019-05-21  Tue  14:35:00        Good   Retail         Type_A   \n",
       "1    23136  2019-05-21  Tue  14:28:00        Good   Retail         Type_A   \n",
       "2    23135  2019-05-21  Tue  14:24:00        Good   Retail         Type_A   \n",
       "3    23134  2019-05-21  Tue  14:21:00        Good   Retail         Type_A   \n",
       "4    23134  2019-05-21  Tue  14:21:00        Good   Retail         Type_A   \n",
       "\n",
       "          campaign  \n",
       "0  discount_type_1  \n",
       "1  discount_type_2  \n",
       "2  discount_type_1  \n",
       "3  discount_type_3  \n",
       "4  discount_type_3  "
      ]
     },
     "execution_count": 15,
     "metadata": {},
     "output_type": "execute_result"
    }
   ],
   "source": [
    "df_status.head()"
   ]
  },
  {
   "cell_type": "code",
   "execution_count": 16,
   "metadata": {},
   "outputs": [
    {
     "data": {
      "text/html": [
       "<div>\n",
       "<style scoped>\n",
       "    .dataframe tbody tr th:only-of-type {\n",
       "        vertical-align: middle;\n",
       "    }\n",
       "\n",
       "    .dataframe tbody tr th {\n",
       "        vertical-align: top;\n",
       "    }\n",
       "\n",
       "    .dataframe thead th {\n",
       "        text-align: right;\n",
       "    }\n",
       "</style>\n",
       "<table border=\"1\" class=\"dataframe\">\n",
       "  <thead>\n",
       "    <tr style=\"text-align: right;\">\n",
       "      <th></th>\n",
       "      <th>package_id</th>\n",
       "      <th>item_name</th>\n",
       "    </tr>\n",
       "  </thead>\n",
       "  <tbody>\n",
       "    <tr>\n",
       "      <td>0</td>\n",
       "      <td>1700000002</td>\n",
       "      <td>Snickers</td>\n",
       "    </tr>\n",
       "    <tr>\n",
       "      <td>1</td>\n",
       "      <td>1700000003</td>\n",
       "      <td>Snickers Crisper</td>\n",
       "    </tr>\n",
       "    <tr>\n",
       "      <td>2</td>\n",
       "      <td>1700000004</td>\n",
       "      <td>Hersheys Krackel</td>\n",
       "    </tr>\n",
       "    <tr>\n",
       "      <td>3</td>\n",
       "      <td>1700000005</td>\n",
       "      <td>3 Musketeers</td>\n",
       "    </tr>\n",
       "    <tr>\n",
       "      <td>4</td>\n",
       "      <td>1700000006</td>\n",
       "      <td>Reeses Peanut Butter cup</td>\n",
       "    </tr>\n",
       "  </tbody>\n",
       "</table>\n",
       "</div>"
      ],
      "text/plain": [
       "   package_id                 item_name\n",
       "0  1700000002                  Snickers\n",
       "1  1700000003          Snickers Crisper\n",
       "2  1700000004          Hersheys Krackel\n",
       "3  1700000005              3 Musketeers\n",
       "4  1700000006  Reeses Peanut Butter cup"
      ]
     },
     "execution_count": 16,
     "metadata": {},
     "output_type": "execute_result"
    }
   ],
   "source": [
    "df_items.head()"
   ]
  },
  {
   "cell_type": "code",
   "execution_count": 17,
   "metadata": {},
   "outputs": [
    {
     "data": {
      "text/html": [
       "<div>\n",
       "<style scoped>\n",
       "    .dataframe tbody tr th:only-of-type {\n",
       "        vertical-align: middle;\n",
       "    }\n",
       "\n",
       "    .dataframe tbody tr th {\n",
       "        vertical-align: top;\n",
       "    }\n",
       "\n",
       "    .dataframe thead th {\n",
       "        text-align: right;\n",
       "    }\n",
       "</style>\n",
       "<table border=\"1\" class=\"dataframe\">\n",
       "  <thead>\n",
       "    <tr style=\"text-align: right;\">\n",
       "      <th></th>\n",
       "      <th>Month</th>\n",
       "      <th>category_type</th>\n",
       "      <th>metro_area</th>\n",
       "      <th>county_1</th>\n",
       "      <th>county_2</th>\n",
       "      <th>county_3</th>\n",
       "      <th>county_4</th>\n",
       "      <th>county_5</th>\n",
       "      <th>county_6</th>\n",
       "      <th>total_market_sales</th>\n",
       "    </tr>\n",
       "  </thead>\n",
       "  <tbody>\n",
       "    <tr>\n",
       "      <td>0</td>\n",
       "      <td>2015-10-01</td>\n",
       "      <td>Type_A</td>\n",
       "      <td>20546418.0</td>\n",
       "      <td>16398610.0</td>\n",
       "      <td>1743830.0</td>\n",
       "      <td>1881358.0</td>\n",
       "      <td>435580.0</td>\n",
       "      <td>NaN</td>\n",
       "      <td>87040.0</td>\n",
       "      <td>41092836.0</td>\n",
       "    </tr>\n",
       "    <tr>\n",
       "      <td>1</td>\n",
       "      <td>2015-10-01</td>\n",
       "      <td>Type_B</td>\n",
       "      <td>25067072.0</td>\n",
       "      <td>19085375.0</td>\n",
       "      <td>NaN</td>\n",
       "      <td>3091341.0</td>\n",
       "      <td>2446592.0</td>\n",
       "      <td>443764.0</td>\n",
       "      <td>NaN</td>\n",
       "      <td>50134144.0</td>\n",
       "    </tr>\n",
       "    <tr>\n",
       "      <td>2</td>\n",
       "      <td>2015-03-01</td>\n",
       "      <td>Type_A</td>\n",
       "      <td>18393590.0</td>\n",
       "      <td>14406613.0</td>\n",
       "      <td>1562845.0</td>\n",
       "      <td>1861813.0</td>\n",
       "      <td>479975.0</td>\n",
       "      <td>NaN</td>\n",
       "      <td>82344.0</td>\n",
       "      <td>36787180.0</td>\n",
       "    </tr>\n",
       "    <tr>\n",
       "      <td>3</td>\n",
       "      <td>2015-03-01</td>\n",
       "      <td>Type_B</td>\n",
       "      <td>3997657.0</td>\n",
       "      <td>862396.0</td>\n",
       "      <td>NaN</td>\n",
       "      <td>1020552.0</td>\n",
       "      <td>1497796.0</td>\n",
       "      <td>616913.0</td>\n",
       "      <td>NaN</td>\n",
       "      <td>7995314.0</td>\n",
       "    </tr>\n",
       "    <tr>\n",
       "      <td>4</td>\n",
       "      <td>2014-05-01</td>\n",
       "      <td>Type_A</td>\n",
       "      <td>18265403.0</td>\n",
       "      <td>14150620.0</td>\n",
       "      <td>1511922.0</td>\n",
       "      <td>2037535.0</td>\n",
       "      <td>467977.0</td>\n",
       "      <td>NaN</td>\n",
       "      <td>97349.0</td>\n",
       "      <td>36530806.0</td>\n",
       "    </tr>\n",
       "  </tbody>\n",
       "</table>\n",
       "</div>"
      ],
      "text/plain": [
       "        Month category_type  metro_area    county_1   county_2   county_3  \\\n",
       "0  2015-10-01        Type_A  20546418.0  16398610.0  1743830.0  1881358.0   \n",
       "1  2015-10-01        Type_B  25067072.0  19085375.0        NaN  3091341.0   \n",
       "2  2015-03-01        Type_A  18393590.0  14406613.0  1562845.0  1861813.0   \n",
       "3  2015-03-01        Type_B   3997657.0    862396.0        NaN  1020552.0   \n",
       "4  2014-05-01        Type_A  18265403.0  14150620.0  1511922.0  2037535.0   \n",
       "\n",
       "    county_4  county_5  county_6  total_market_sales  \n",
       "0   435580.0       NaN   87040.0          41092836.0  \n",
       "1  2446592.0  443764.0       NaN          50134144.0  \n",
       "2   479975.0       NaN   82344.0          36787180.0  \n",
       "3  1497796.0  616913.0       NaN           7995314.0  \n",
       "4   467977.0       NaN   97349.0          36530806.0  "
      ]
     },
     "execution_count": 17,
     "metadata": {},
     "output_type": "execute_result"
    }
   ],
   "source": [
    "df_markets.head()"
   ]
  },
  {
   "cell_type": "markdown",
   "metadata": {},
   "source": [
    "# Write the dataframes to the Azure PostgreSQL database as tables"
   ]
  },
  {
   "cell_type": "code",
   "execution_count": 18,
   "metadata": {},
   "outputs": [],
   "source": [
    "# sqlalchemy can be used to write a pandas dataframe into a SQL table, one row at a time\n",
    "# create the sql-write engine\n",
    "engine = create_engine(f\"postgresql+psycopg2://{user}:{password}@{host}/{dbname}\")"
   ]
  },
  {
   "cell_type": "code",
   "execution_count": 19,
   "metadata": {},
   "outputs": [],
   "source": [
    "# df_status had an error, delete the table and start over\n",
    "# define the bad_table and SQL statement\n",
    "bad_table = \"demand_forecasting_transactions_contents\"\n",
    "delete_statement = \"DROP TABLE IF EXISTS %s;\" % bad_table\n",
    "\n",
    "# Execute the drop table command\n",
    "cursor.execute(delete_statement)\n",
    "conn.commit()\n",
    "# conn.close()"
   ]
  },
  {
   "cell_type": "code",
   "execution_count": 21,
   "metadata": {},
   "outputs": [],
   "source": [
    "# create a psql table from df_contents\n",
    "# use the pandas .to_sql function with the sqlalchemy engine\n",
    "df_contents.to_sql(\n",
    "    \"demand_forecasting_transactions_contents\", engine\n",
    ")  # this process will take some time"
   ]
  },
  {
   "cell_type": "code",
   "execution_count": 96,
   "metadata": {},
   "outputs": [],
   "source": [
    "# create a psql table from df_items\n",
    "df_items.to_sql(\"demand_forecasting_items\", engine)  # this process will take some time"
   ]
  },
  {
   "cell_type": "code",
   "execution_count": 367,
   "metadata": {
    "collapsed": true,
    "jupyter": {
     "outputs_hidden": true
    }
   },
   "outputs": [
    {
     "name": "stderr",
     "output_type": "stream",
     "text": [
      "ERROR:root:Internal Python error in the inspect module.\n",
      "Below is the traceback from this internal error.\n",
      "\n"
     ]
    },
    {
     "name": "stdout",
     "output_type": "stream",
     "text": [
      "Traceback (most recent call last):\n",
      "  File \"/opt/anaconda3/lib/python3.7/site-packages/IPython/core/interactiveshell.py\", line 3326, in run_code\n",
      "    exec(code_obj, self.user_global_ns, self.user_ns)\n",
      "  File \"<ipython-input-367-6c1f5385b75c>\", line 1, in <module>\n",
      "    df_status.to_sql('demand_forecasting_transactions_status', engine)\n",
      "  File \"/opt/anaconda3/lib/python3.7/site-packages/pandas/core/generic.py\", line 2712, in to_sql\n",
      "    method=method,\n",
      "  File \"/opt/anaconda3/lib/python3.7/site-packages/pandas/io/sql.py\", line 518, in to_sql\n",
      "    method=method,\n",
      "  File \"/opt/anaconda3/lib/python3.7/site-packages/pandas/io/sql.py\", line 1319, in to_sql\n",
      "    table.create()\n",
      "  File \"/opt/anaconda3/lib/python3.7/site-packages/pandas/io/sql.py\", line 644, in create\n",
      "    \"Table '{name}' already exists.\".format(name=self.name)\n",
      "ValueError: Table 'demand_forecasting_transactions_status' already exists.\n",
      "\n",
      "During handling of the above exception, another exception occurred:\n",
      "\n",
      "Traceback (most recent call last):\n",
      "  File \"/opt/anaconda3/lib/python3.7/site-packages/IPython/core/interactiveshell.py\", line 2040, in showtraceback\n",
      "    stb = value._render_traceback_()\n",
      "AttributeError: 'ValueError' object has no attribute '_render_traceback_'\n",
      "\n",
      "During handling of the above exception, another exception occurred:\n",
      "\n",
      "Traceback (most recent call last):\n",
      "  File \"/opt/anaconda3/lib/python3.7/site-packages/IPython/core/ultratb.py\", line 1101, in get_records\n",
      "    return _fixed_getinnerframes(etb, number_of_lines_of_context, tb_offset)\n",
      "  File \"/opt/anaconda3/lib/python3.7/site-packages/IPython/core/ultratb.py\", line 319, in wrapped\n",
      "    return f(*args, **kwargs)\n",
      "  File \"/opt/anaconda3/lib/python3.7/site-packages/IPython/core/ultratb.py\", line 353, in _fixed_getinnerframes\n",
      "    records = fix_frame_records_filenames(inspect.getinnerframes(etb, context))\n",
      "  File \"/opt/anaconda3/lib/python3.7/inspect.py\", line 1502, in getinnerframes\n",
      "    frameinfo = (tb.tb_frame,) + getframeinfo(tb, context)\n",
      "  File \"/opt/anaconda3/lib/python3.7/inspect.py\", line 1460, in getframeinfo\n",
      "    filename = getsourcefile(frame) or getfile(frame)\n",
      "  File \"/opt/anaconda3/lib/python3.7/inspect.py\", line 696, in getsourcefile\n",
      "    if getattr(getmodule(object, filename), '__loader__', None) is not None:\n",
      "  File \"/opt/anaconda3/lib/python3.7/inspect.py\", line 725, in getmodule\n",
      "    file = getabsfile(object, _filename)\n",
      "  File \"/opt/anaconda3/lib/python3.7/inspect.py\", line 709, in getabsfile\n",
      "    return os.path.normcase(os.path.abspath(_filename))\n",
      "  File \"/opt/anaconda3/lib/python3.7/posixpath.py\", line 383, in abspath\n",
      "    cwd = os.getcwd()\n",
      "FileNotFoundError: [Errno 2] No such file or directory\n"
     ]
    },
    {
     "ename": "ValueError",
     "evalue": "Table 'demand_forecasting_transactions_status' already exists.",
     "output_type": "error",
     "traceback": [
      "\u001b[0;31m---------------------------------------------------------------------------\u001b[0m"
     ]
    }
   ],
   "source": [
    "# create a psql table from df_status\n",
    "df_status.to_sql(\n",
    "    \"demand_forecasting_transactions_status\", engine\n",
    ")  # this process will take some time"
   ]
  },
  {
   "cell_type": "markdown",
   "metadata": {},
   "source": [
    "### This table-creation had an error (connection interrupted) and did not complete. \n",
    "\n",
    "### Unfortunately, this operation will not restart partially through a table creation (at least how it is configured here), and must be restarted.\n",
    "\n",
    "### The failed-table must be dropped, and the connection commited for the drop to take effect"
   ]
  },
  {
   "cell_type": "code",
   "execution_count": null,
   "metadata": {},
   "outputs": [],
   "source": [
    "# get all table names\n",
    "cursor.execute(\n",
    "    \"select relname from pg_class where relkind='r' and relname !~ '^(pg_|sql_)';\"\n",
    ")\n",
    "print(cursor.fetchall())"
   ]
  },
  {
   "cell_type": "code",
   "execution_count": 90,
   "metadata": {},
   "outputs": [],
   "source": [
    "# df_status had an error, delete the table and start over\n",
    "# define the bad_table and SQL statement\n",
    "bad_table = \"demand_forecasting_items\"\n",
    "delete_statement = \"DROP TABLE IF EXISTS %s;\" % bad_table\n",
    "\n",
    "# Execute the drop table command\n",
    "cursor.execute(delete_statement)\n",
    "conn.commit()\n",
    "# conn.close()"
   ]
  },
  {
   "cell_type": "code",
   "execution_count": 91,
   "metadata": {},
   "outputs": [
    {
     "name": "stdout",
     "output_type": "stream",
     "text": [
      "Connection established\n"
     ]
    }
   ],
   "source": [
    "# reconnect the psycopg2 cursor\n",
    "conn = pg.connect(conn_string)\n",
    "print(\"Connection established\")\n",
    "\n",
    "cursor = conn.cursor()"
   ]
  },
  {
   "cell_type": "code",
   "execution_count": 92,
   "metadata": {},
   "outputs": [
    {
     "name": "stdout",
     "output_type": "stream",
     "text": [
      "[('demand_forecasting_transaction_status',), ('demand_forecasting_transactions_contents',), ('demand_forecasting_market_data',)]\n"
     ]
    }
   ],
   "source": [
    "# get all table names\n",
    "cursor.execute(\n",
    "    \"select relname from pg_class where relkind='r' and relname !~ '^(pg_|sql_)';\"\n",
    ")\n",
    "print(cursor.fetchall())"
   ]
  },
  {
   "cell_type": "code",
   "execution_count": 44,
   "metadata": {},
   "outputs": [],
   "source": [
    "# re-create a psql table from df_status\n",
    "df_status.to_sql(\"demand_forecasting_transaction_status_\", engine)"
   ]
  },
  {
   "cell_type": "code",
   "execution_count": 51,
   "metadata": {},
   "outputs": [],
   "source": [
    "# create a psql table from df_markets\n",
    "df_markets.to_sql(\n",
    "    \"demand_forecasting_market_data\", engine\n",
    ")  # this process will take some time"
   ]
  },
  {
   "cell_type": "code",
   "execution_count": 131,
   "metadata": {},
   "outputs": [
    {
     "name": "stdout",
     "output_type": "stream",
     "text": [
      "[('demand_forecasting_items',), ('demand_forecasting_transaction_status',), ('demand_forecasting_transactions_contents',), ('demand_forecasting_market_data',)]\n"
     ]
    }
   ],
   "source": [
    "# get all table names\n",
    "cursor.execute(\n",
    "    \"select relname from pg_class where relkind='r' and relname !~ '^(pg_|sql_)';\"\n",
    ")\n",
    "print(cursor.fetchall())"
   ]
  },
  {
   "cell_type": "code",
   "execution_count": 217,
   "metadata": {},
   "outputs": [
    {
     "name": "stdout",
     "output_type": "stream",
     "text": [
      "[('index',), ('package_id',), ('item_name',)]\n"
     ]
    }
   ],
   "source": [
    "# check and see if column names were included in tables\n",
    "cursor.execute(\n",
    "    \"\"\"\n",
    "SELECT COLUMN_NAME\n",
    "FROM information_schema.COLUMNS\n",
    "WHERE TABLE_NAME = 'demand_forecasting_items';\"\"\"\n",
    ")  #\n",
    "print(cursor.fetchall())"
   ]
  },
  {
   "cell_type": "code",
   "execution_count": 105,
   "metadata": {},
   "outputs": [],
   "source": [
    "# everything looks good!\n",
    "# close the connection for the day\n",
    "conn.close()"
   ]
  },
  {
   "cell_type": "markdown",
   "metadata": {},
   "source": [
    "# Query from the Postgres databases"
   ]
  },
  {
   "cell_type": "code",
   "execution_count": 274,
   "metadata": {},
   "outputs": [
    {
     "data": {
      "text/html": [
       "<div>\n",
       "<style scoped>\n",
       "    .dataframe tbody tr th:only-of-type {\n",
       "        vertical-align: middle;\n",
       "    }\n",
       "\n",
       "    .dataframe tbody tr th {\n",
       "        vertical-align: top;\n",
       "    }\n",
       "\n",
       "    .dataframe thead th {\n",
       "        text-align: right;\n",
       "    }\n",
       "</style>\n",
       "<table border=\"1\" class=\"dataframe\">\n",
       "  <thead>\n",
       "    <tr style=\"text-align: right;\">\n",
       "      <th></th>\n",
       "      <th>invoice</th>\n",
       "      <th>date</th>\n",
       "      <th>day</th>\n",
       "      <th>time</th>\n",
       "      <th>transaction</th>\n",
       "      <th>category</th>\n",
       "      <th>store_category</th>\n",
       "      <th>campaign</th>\n",
       "    </tr>\n",
       "    <tr>\n",
       "      <th>index</th>\n",
       "      <th></th>\n",
       "      <th></th>\n",
       "      <th></th>\n",
       "      <th></th>\n",
       "      <th></th>\n",
       "      <th></th>\n",
       "      <th></th>\n",
       "      <th></th>\n",
       "    </tr>\n",
       "  </thead>\n",
       "  <tbody>\n",
       "    <tr>\n",
       "      <td>0</td>\n",
       "      <td>23137</td>\n",
       "      <td>2019-05-21</td>\n",
       "      <td>Tue</td>\n",
       "      <td>14:35:00</td>\n",
       "      <td>Good</td>\n",
       "      <td>Retail</td>\n",
       "      <td>Type_A</td>\n",
       "      <td>discount_type_1</td>\n",
       "    </tr>\n",
       "    <tr>\n",
       "      <td>1</td>\n",
       "      <td>23136</td>\n",
       "      <td>2019-05-21</td>\n",
       "      <td>Tue</td>\n",
       "      <td>14:28:00</td>\n",
       "      <td>Good</td>\n",
       "      <td>Retail</td>\n",
       "      <td>Type_A</td>\n",
       "      <td>discount_type_2</td>\n",
       "    </tr>\n",
       "    <tr>\n",
       "      <td>2</td>\n",
       "      <td>23135</td>\n",
       "      <td>2019-05-21</td>\n",
       "      <td>Tue</td>\n",
       "      <td>14:24:00</td>\n",
       "      <td>Good</td>\n",
       "      <td>Retail</td>\n",
       "      <td>Type_A</td>\n",
       "      <td>discount_type_1</td>\n",
       "    </tr>\n",
       "    <tr>\n",
       "      <td>3</td>\n",
       "      <td>23134</td>\n",
       "      <td>2019-05-21</td>\n",
       "      <td>Tue</td>\n",
       "      <td>14:21:00</td>\n",
       "      <td>Good</td>\n",
       "      <td>Retail</td>\n",
       "      <td>Type_A</td>\n",
       "      <td>discount_type_3</td>\n",
       "    </tr>\n",
       "    <tr>\n",
       "      <td>4</td>\n",
       "      <td>23134</td>\n",
       "      <td>2019-05-21</td>\n",
       "      <td>Tue</td>\n",
       "      <td>14:21:00</td>\n",
       "      <td>Good</td>\n",
       "      <td>Retail</td>\n",
       "      <td>Type_A</td>\n",
       "      <td>discount_type_3</td>\n",
       "    </tr>\n",
       "  </tbody>\n",
       "</table>\n",
       "</div>"
      ],
      "text/plain": [
       "       invoice        date  day      time transaction category store_category  \\\n",
       "index                                                                           \n",
       "0        23137  2019-05-21  Tue  14:35:00        Good   Retail         Type_A   \n",
       "1        23136  2019-05-21  Tue  14:28:00        Good   Retail         Type_A   \n",
       "2        23135  2019-05-21  Tue  14:24:00        Good   Retail         Type_A   \n",
       "3        23134  2019-05-21  Tue  14:21:00        Good   Retail         Type_A   \n",
       "4        23134  2019-05-21  Tue  14:21:00        Good   Retail         Type_A   \n",
       "\n",
       "              campaign  \n",
       "index                   \n",
       "0      discount_type_1  \n",
       "1      discount_type_2  \n",
       "2      discount_type_1  \n",
       "3      discount_type_3  \n",
       "4      discount_type_3  "
      ]
     },
     "execution_count": 274,
     "metadata": {},
     "output_type": "execute_result"
    }
   ],
   "source": [
    "test = \"demand_forecasting_transaction_status\"\n",
    "statement = f\"\"\"\n",
    "SELECT * \n",
    "from {test};\"\"\"\n",
    "cursor.execute(statement)\n",
    "out1 = cursor.fetchall()\n",
    "\n",
    "statement2 = f\"\"\"\n",
    "SELECT COLUMN_NAME\n",
    "FROM information_schema.COLUMNS\n",
    "WHERE TABLE_NAME = '{test}';\"\"\"\n",
    "cursor.execute(statement2)\n",
    "out2 = cursor.fetchall()\n",
    "names = [x[0] for x in out2]\n",
    "\n",
    "# create the dataframe\n",
    "df_test = pd.DataFrame.from_records(\n",
    "    out1, index=\"index\", columns=names\n",
    ")  # set_index('index')\n",
    "df_test.head()"
   ]
  },
  {
   "cell_type": "code",
   "execution_count": 275,
   "metadata": {},
   "outputs": [
    {
     "data": {
      "text/plain": [
       "Index(['invoice', 'date', 'day', 'time', 'transaction', 'category',\n",
       "       'store_category', 'campaign'],\n",
       "      dtype='object')"
      ]
     },
     "execution_count": 275,
     "metadata": {},
     "output_type": "execute_result"
    }
   ],
   "source": [
    "df_test.columns"
   ]
  },
  {
   "cell_type": "markdown",
   "metadata": {},
   "source": [
    "# Next:\n",
    "### - Now this data is ready for the next steps in the process.\n",
    "### - Continue with the 'Demand_forecasting_data_prep_from_SQL.ipynb' notebook"
   ]
  },
  {
   "cell_type": "code",
   "execution_count": null,
   "metadata": {},
   "outputs": [],
   "source": []
  }
 ],
 "metadata": {
  "kernelspec": {
   "display_name": "attrition",
   "language": "python",
   "name": "python3"
  },
  "language_info": {
   "codemirror_mode": {
    "name": "ipython",
    "version": 3
   },
   "file_extension": ".py",
   "mimetype": "text/x-python",
   "name": "python",
   "nbconvert_exporter": "python",
   "pygments_lexer": "ipython3",
   "version": "3.11.0"
  },
  "vscode": {
   "interpreter": {
    "hash": "f7c8574558d915a4f03de4bb63c6acf8661c2f232be2bf8a943dfdd918fe4b7a"
   }
  }
 },
 "nbformat": 4,
 "nbformat_minor": 4
}
